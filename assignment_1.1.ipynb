{
 "cells": [
  {
   "cell_type": "code",
   "execution_count": 5,
   "id": "5ff78f0f",
   "metadata": {},
   "outputs": [
    {
     "name": "stdout",
     "output_type": "stream",
     "text": [
      "{'Name': 'Amit Roy', 'DOB': '18/05/1991', 'Height': '160cm', 'City': 'Kolkata', 'State': 'West Bengal'}\n",
      "{'Name': 'Anjali Kumari', 'DOB': '18/05/1998', 'Height': '140cm', 'City': 'Agra', 'State': 'Uttar Pradesh'}\n",
      "{'Name': 'Kritika Tiwari', 'DOB': '10/05/1991', 'Height': '150cm', 'City': 'Indore', 'State': 'Madhya Pradesh'}\n",
      "{'Name': 'Sandip Biswas', 'DOB': '18/12/1982', 'Height': '155cm', 'City': 'Hyderabad', 'State': 'Telangana'}\n",
      "{'Name': 'Arpitha Chavati', 'DOB': '01/08/1989', 'Height': '145cm', 'City': 'Bengaluru', 'State': 'Karnataka'}\n"
     ]
    }
   ],
   "source": [
    "import json\n",
    "  \n",
    "# Opening JSON file\n",
    "f = open('employee.json',)\n",
    "  \n",
    "# returns JSON object as\n",
    "# a dictionary\n",
    "data = json.load(f)\n",
    "  \n",
    "# Iterating through the json\n",
    "# list\n",
    "for i in data['emp_details']:\n",
    "    print(i)\n",
    "  \n",
    "# Closing file\n",
    "f.close()"
   ]
  },
  {
   "cell_type": "code",
   "execution_count": null,
   "id": "fd931417",
   "metadata": {},
   "outputs": [],
   "source": []
  },
  {
   "cell_type": "code",
   "execution_count": null,
   "id": "68896b21",
   "metadata": {},
   "outputs": [],
   "source": []
  }
 ],
 "metadata": {
  "kernelspec": {
   "display_name": "Python 3 (ipykernel)",
   "language": "python",
   "name": "python3"
  },
  "language_info": {
   "codemirror_mode": {
    "name": "ipython",
    "version": 3
   },
   "file_extension": ".py",
   "mimetype": "text/x-python",
   "name": "python",
   "nbconvert_exporter": "python",
   "pygments_lexer": "ipython3",
   "version": "3.9.13"
  }
 },
 "nbformat": 4,
 "nbformat_minor": 5
}
