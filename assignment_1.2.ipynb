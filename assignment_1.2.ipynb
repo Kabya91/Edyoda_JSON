{
 "cells": [
  {
   "cell_type": "code",
   "execution_count": 5,
   "id": "6ab3387d",
   "metadata": {},
   "outputs": [],
   "source": [
    "import json\n",
    " \n",
    "# Data to be written\n",
    "dictionary = {\n",
    "    \"State\": \"Andhra Pradesh\", \"Capital\": \"Amaravati\",\n",
    "    \"State\": \"Bihar\", \"Capital\": \"Patna\",\n",
    "    \"State\": \"Kerala\", \"Capital\": \"Thiruvananthapuram\",\n",
    "    \"State\": \"Rajasthan\", \"Capital\": \"Udaipur\",\n",
    "    \"State\": \"Tripura\", \"Capital\": \"Agartala\",\n",
    "    \"State\": \"Punjab\", \"Capital\": \"Chandigarh\",\n",
    "    \"State\": \"Sikkim\", \"Capital\": \"Gangtok\"\n",
    "}\n",
    " \n",
    "# Serializing json\n",
    "json_object = json.dumps(dictionary, indent=4)\n",
    " \n",
    "# Writing to sample.json\n",
    "with open(\"sample.json\", \"w\") as outfile:\n",
    "    outfile.write(json_object)"
   ]
  },
  {
   "cell_type": "code",
   "execution_count": null,
   "id": "75e0b417",
   "metadata": {},
   "outputs": [],
   "source": []
  },
  {
   "cell_type": "code",
   "execution_count": null,
   "id": "b117c39e",
   "metadata": {},
   "outputs": [],
   "source": []
  }
 ],
 "metadata": {
  "kernelspec": {
   "display_name": "Python 3 (ipykernel)",
   "language": "python",
   "name": "python3"
  },
  "language_info": {
   "codemirror_mode": {
    "name": "ipython",
    "version": 3
   },
   "file_extension": ".py",
   "mimetype": "text/x-python",
   "name": "python",
   "nbconvert_exporter": "python",
   "pygments_lexer": "ipython3",
   "version": "3.9.13"
  }
 },
 "nbformat": 4,
 "nbformat_minor": 5
}
